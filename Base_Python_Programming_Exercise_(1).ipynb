{
  "cells": [
    {
      "cell_type": "markdown",
      "metadata": {
        "id": "view-in-github",
        "colab_type": "text"
      },
      "source": [
        "<a href=\"https://colab.research.google.com/github/SahilPimprikar/python-assignment/blob/main/Base_Python_Programming_Exercise_(1).ipynb\" target=\"_parent\"><img src=\"https://colab.research.google.com/assets/colab-badge.svg\" alt=\"Open In Colab\"/></a>"
      ]
    },
    {
      "cell_type": "markdown",
      "metadata": {
        "id": "QWqkQzPuQOLO"
      },
      "source": [
        "## Python Basic Programming Exercises"
      ]
    },
    {
      "cell_type": "raw",
      "metadata": {
        "id": "CrjODyVmQOLQ"
      },
      "source": [
        "Q1: What is the output of following expression\n",
        "    5 + 4 * 9 % (3 + 1) / 6 - 1"
      ]
    },
    {
      "cell_type": "code",
      "execution_count": 1,
      "metadata": {
        "colab": {
          "base_uri": "https://localhost:8080/"
        },
        "id": "TTJJN0Z1QOLQ",
        "outputId": "43148641-9a0c-439c-90b3-561aaeaca885"
      },
      "outputs": [
        {
          "output_type": "execute_result",
          "data": {
            "text/plain": [
              "4.0"
            ]
          },
          "metadata": {},
          "execution_count": 1
        }
      ],
      "source": [
        "4.0"
      ]
    },
    {
      "cell_type": "raw",
      "metadata": {
        "id": "fvbWg1GpQOLR"
      },
      "source": [
        "Q2: Write a program to check if a Number is Odd or Even. Take number as a input from user at runtime."
      ]
    },
    {
      "cell_type": "code",
      "execution_count": null,
      "metadata": {
        "id": "Ur-E0NAVQOLR"
      },
      "outputs": [],
      "source": [
        "# hello world\n",
        "def check_even_odd(number):\n",
        "    if number % 2 == 0:\n",
        "        print(f\"{number} is an even number.\")\n",
        "    else:\n",
        "        print(f\"{number} is an odd number.\")\n",
        "\n",
        "num = int(input(\"Enter a number: \"))\n",
        "\n",
        "check_even_odd(num)\n"
      ]
    },
    {
      "cell_type": "raw",
      "metadata": {
        "id": "T0VoovplQOLR"
      },
      "source": [
        "Q3: Write a program to display the multiplication table by taking a number as input.\n",
        "    [Hint : Use print statement inside of a loop]"
      ]
    },
    {
      "cell_type": "code",
      "execution_count": 8,
      "metadata": {
        "colab": {
          "base_uri": "https://localhost:8080/"
        },
        "id": "xZCqDd_cQOLS",
        "outputId": "a12021e5-61c5-475b-f230-2003a53474be"
      },
      "outputs": [
        {
          "output_type": "stream",
          "name": "stdout",
          "text": [
            "Enter a number: 5\n",
            "Multiplication Table of 5\n",
            "5 x 1 = 5\n",
            "5 x 2 = 10\n",
            "5 x 3 = 15\n",
            "5 x 4 = 20\n",
            "5 x 5 = 25\n",
            "5 x 6 = 30\n",
            "5 x 7 = 35\n",
            "5 x 8 = 40\n",
            "5 x 9 = 45\n",
            "5 x 10 = 50\n"
          ]
        }
      ],
      "source": [
        "\n",
        "number = int(input(\"Enter a number: \"))\n",
        "\n",
        "print(f\"Multiplication Table of {number}\")\n",
        "for i in range(1, 11):\n",
        "    print(f\"{number} x {i} = {number * i}\")\n"
      ]
    },
    {
      "cell_type": "raw",
      "metadata": {
        "id": "MUZ1gKDeQOLS"
      },
      "source": [
        "Q4: Write a program which will find all numbers between 2000 and 3200 which are divisible by 7\n",
        "    but are not a multiple of 5.\n",
        "\n",
        "Note: The numbers obtained should be printed in a comma-separated sequence on a single line."
      ]
    },
    {
      "cell_type": "code",
      "execution_count": 7,
      "metadata": {
        "colab": {
          "base_uri": "https://localhost:8080/"
        },
        "id": "NjM8xH4kQOLS",
        "outputId": "050041b2-c9bd-452c-d10d-1e1db79fe0e1"
      },
      "outputs": [
        {
          "output_type": "stream",
          "name": "stdout",
          "text": [
            "2002, 2009, 2016, 2023, 2037, 2044, 2051, 2058, 2072, 2079, 2086, 2093, 2107, 2114, 2121, 2128, 2142, 2149, 2156, 2163, 2177, 2184, 2191, 2198, 2212, 2219, 2226, 2233, 2247, 2254, 2261, 2268, 2282, 2289, 2296, 2303, 2317, 2324, 2331, 2338, 2352, 2359, 2366, 2373, 2387, 2394, 2401, 2408, 2422, 2429, 2436, 2443, 2457, 2464, 2471, 2478, 2492, 2499, 2506, 2513, 2527, 2534, 2541, 2548, 2562, 2569, 2576, 2583, 2597, 2604, 2611, 2618, 2632, 2639, 2646, 2653, 2667, 2674, 2681, 2688, 2702, 2709, 2716, 2723, 2737, 2744, 2751, 2758, 2772, 2779, 2786, 2793, 2807, 2814, 2821, 2828, 2842, 2849, 2856, 2863, 2877, 2884, 2891, 2898, 2912, 2919, 2926, 2933, 2947, 2954, 2961, 2968, 2982, 2989, 2996, 3003, 3017, 3024, 3031, 3038, 3052, 3059, 3066, 3073, 3087, 3094, 3101, 3108, 3122, 3129, 3136, 3143, 3157, 3164, 3171, 3178, 3192, 3199\n"
          ]
        }
      ],
      "source": [
        "\n",
        "result = []\n",
        "\n",
        "\n",
        "for num in range(2000, 3201):\n",
        "    if num % 7 == 0 and num % 5 != 0:\n",
        "        result.append(str(num))\n",
        "\n",
        "print(\", \".join(result))\n"
      ]
    },
    {
      "cell_type": "raw",
      "metadata": {
        "id": "kEofSkAJQOLS"
      },
      "source": [
        "Q5: Count the elements of each datatype inside the list and display in output\n",
        "    [2, 3, 'Py', '10', 1, 'SQL', 5.5, True, 3, 'John', None, 7]"
      ]
    },
    {
      "cell_type": "code",
      "execution_count": 6,
      "metadata": {
        "colab": {
          "base_uri": "https://localhost:8080/"
        },
        "id": "Gw8v7_p7QOLT",
        "outputId": "992b6e3d-2cfc-4139-bcd7-a74eb19a1770"
      },
      "outputs": [
        {
          "output_type": "stream",
          "name": "stdout",
          "text": [
            "int: 5\n",
            "str: 4\n",
            "float: 1\n",
            "bool: 1\n",
            "NoneType: 1\n"
          ]
        }
      ],
      "source": [
        "\n",
        "data = [2, 3, 'Py', '10', 1, 'SQL', 5.5, True, 3, 'John', None, 7]\n",
        "\n",
        "type_count = {}\n",
        "\n",
        "for item in data:\n",
        "    data_type = type(item).__name__\n",
        "    if data_type in type_count:\n",
        "        type_count[data_type] += 1\n",
        "    else:\n",
        "        type_count[data_type] = 1\n",
        "\n",
        "for data_type, count in type_count.items():\n",
        "    print(f\"{data_type}: {count}\")\n"
      ]
    },
    {
      "cell_type": "raw",
      "metadata": {
        "id": "jYio-NjYQOLT"
      },
      "source": [
        "Q6: Add all values from the list with numeric datatypes\n",
        "    [2, 3, 'Py', '10', 1, 'SQL', 5.5, True, 3, 'John', None, 7]"
      ]
    },
    {
      "cell_type": "code",
      "execution_count": 5,
      "metadata": {
        "colab": {
          "base_uri": "https://localhost:8080/"
        },
        "id": "2jNZuABrQOLT",
        "outputId": "67d69e3c-8def-4fcb-a21b-139e2d5f8f1b"
      },
      "outputs": [
        {
          "output_type": "stream",
          "name": "stdout",
          "text": [
            "Total sum of numeric values: 22.5\n"
          ]
        }
      ],
      "source": [
        "\n",
        "data = [2, 3, 'Py', '10', 1, 'SQL', 5.5, True, 3, 'John', None, 7]\n",
        "\n",
        "total_sum = 0\n",
        "\n",
        "\n",
        "for item in data:\n",
        "    if isinstance(item, (int, float)):\n",
        "        total_sum += item\n",
        "\n",
        "\n",
        "print(f\"Total sum of numeric values: {total_sum}\")\n"
      ]
    },
    {
      "cell_type": "raw",
      "metadata": {
        "id": "bjx5jlbrQOLT"
      },
      "source": [
        "Q7: Concat all str datatypes with hyphen as a delimiter\n",
        "    [2, 3, 'Py', '10', 1, 'SQL', 5.5, True, 3, 'John', None, 7]"
      ]
    },
    {
      "cell_type": "code",
      "execution_count": 4,
      "metadata": {
        "colab": {
          "base_uri": "https://localhost:8080/"
        },
        "id": "cx3ffRdPQOLT",
        "outputId": "585dfaf0-c6da-4ff8-bec0-45663f5ae505"
      },
      "outputs": [
        {
          "output_type": "stream",
          "name": "stdout",
          "text": [
            "Py-10-SQL-John\n"
          ]
        }
      ],
      "source": [
        "\n",
        "data = [2, 3, 'Py', '10', 1, 'SQL', 5.5, True, 3, 'John', None, 7]\n",
        "\n",
        "string_elements = []\n",
        "\n",
        "for item in data:\n",
        "    if isinstance(item, str):\n",
        "        string_elements.append(item)\n",
        "\n",
        "result = \"-\".join(string_elements)\n",
        "\n",
        "print(result)\n"
      ]
    },
    {
      "cell_type": "raw",
      "metadata": {
        "id": "SKgBXMwJQOLT"
      },
      "source": [
        "Q8 Get only odd numbers from the following list and store the numbers in new list\n",
        "    li = [5, 7, 22, 97, 54, 62, 77, 23, 73, 61]\n",
        "\n",
        "    i. Use loops to get the answer\n",
        "   ii. Use list comprehensions\n",
        "  iii. Use lambda function with filter"
      ]
    },
    {
      "cell_type": "code",
      "execution_count": 3,
      "metadata": {
        "colab": {
          "base_uri": "https://localhost:8080/"
        },
        "id": "SgtQqEaaQOLU",
        "outputId": "e34fd055-3876-4323-e174-c020f4d08dfc"
      },
      "outputs": [
        {
          "output_type": "stream",
          "name": "stdout",
          "text": [
            "Using loops: [5, 7, 97, 77, 23, 73, 61]\n",
            "Using list comprehension: [5, 7, 97, 77, 23, 73, 61]\n",
            "Using lambda with filter: [5, 7, 97, 77, 23, 73, 61]\n"
          ]
        }
      ],
      "source": [
        "# Original list\n",
        "li = [5, 7, 22, 97, 54, 62, 77, 23, 73, 61]\n",
        "\n",
        "odd_numbers = []\n",
        "\n",
        "# Loop through each element in the list\n",
        "for num in li:\n",
        "    if num % 2 != 0:\n",
        "        odd_numbers.append(num)\n",
        "\n",
        "print(\"Using loops:\", odd_numbers)\n",
        "\n",
        "\n",
        "# Using list comprehension to get odd numbers\n",
        "odd_numbers_comp = [num for num in li if num % 2 != 0]\n",
        "\n",
        "print(\"Using list comprehension:\", odd_numbers_comp)\n",
        "\n",
        "# Using lambda function and filter to get odd numbers\n",
        "odd_numbers_lambda = list(filter(lambda num: num % 2 != 0, li))\n",
        "\n",
        "print(\"Using lambda with filter:\", odd_numbers_lambda)\n",
        "\n",
        "\n"
      ]
    },
    {
      "cell_type": "raw",
      "metadata": {
        "id": "SbIFkIOGQOLU"
      },
      "source": [
        "Q9: Write an udf to calculate the area of different shapes\n",
        "\n",
        "Take shape and dimensions as arguments to udf as follows :\n",
        "\n",
        "1. square which has side\n",
        "2. rectangle which has length and width\n",
        "3. circle which has radius\n",
        "\n",
        "The shape should be a positional argument and it's dimensions are taken as kwargs\n",
        "\n",
        "Perform proper validation for the user inputs and then calculate area.\n",
        "\n",
        "E.g. if shape is square, ensure kwargs has \"side\" and if so, then you may return the area, else display appropriate error message like \"Please enter 'side' for a square\""
      ]
    },
    {
      "cell_type": "code",
      "execution_count": 2,
      "metadata": {
        "colab": {
          "base_uri": "https://localhost:8080/"
        },
        "id": "F2v5fDeIQOLU",
        "outputId": "6f04bf38-ea7e-4753-b754-944d93d1e26d"
      },
      "outputs": [
        {
          "output_type": "stream",
          "name": "stdout",
          "text": [
            "25\n",
            "24\n",
            "28.27431\n",
            "Shape not recognized. Please use 'square', 'rectangle', or 'circle'.\n",
            "Please enter 'radius' for a circle.\n",
            "Side length must be positive.\n"
          ]
        }
      ],
      "source": [
        "def calculate_area(shape, **kwargs):\n",
        "\n",
        "    if shape == 'square':\n",
        "        side = kwargs.get('side')\n",
        "        if side is None:\n",
        "            return \"Please enter 'side' for a square.\"\n",
        "        if side <= 0:\n",
        "            return \"Side length must be positive.\"\n",
        "        return side ** 2\n",
        "\n",
        "    elif shape == 'rectangle':\n",
        "        length = kwargs.get('length')\n",
        "        width = kwargs.get('width')\n",
        "        if length is None or width is None:\n",
        "            return \"Please enter 'length' and 'width' for a rectangle.\"\n",
        "        if length <= 0 or width <= 0:\n",
        "            return \"Length and width must be positive.\"\n",
        "        return length * width\n",
        "\n",
        "    elif shape == 'circle':\n",
        "        radius = kwargs.get('radius')\n",
        "        if radius is None:\n",
        "            return \"Please enter 'radius' for a circle.\"\n",
        "        if radius <= 0:\n",
        "            return \"Radius must be positive.\"\n",
        "        return 3.14159 * (radius ** 2)\n",
        "\n",
        "    else:\n",
        "        return \"Shape not recognized. Please use 'square', 'rectangle', or 'circle'.\"\n",
        "\n",
        "# Example usage\n",
        "print(calculate_area('square', side=5))\n",
        "print(calculate_area('rectangle', length=4, width=6))\n",
        "print(calculate_area('circle', radius=3))\n",
        "print(calculate_area('triangle', base=5, height=10))\n",
        "print(calculate_area('circle'))\n",
        "print(calculate_area('square', side=-4))\n",
        "\n",
        ""
      ]
    },
    {
      "cell_type": "raw",
      "metadata": {
        "collapsed": true,
        "jupyter": {
          "outputs_hidden": true
        },
        "id": "_qSvk11KQOLV"
      },
      "source": [
        "Q10: write a UDF to check if a number is prime or not."
      ]
    },
    {
      "cell_type": "raw",
      "metadata": {
        "collapsed": true,
        "jupyter": {
          "outputs_hidden": true
        },
        "id": "dKJg_zqfQOLV"
      },
      "source": [
        "Q11. Write a program that takes a string and returns reversed string. i.e. if input is \"abcd123\" output should be \"321dcba\""
      ]
    },
    {
      "cell_type": "code",
      "execution_count": 9,
      "metadata": {
        "colab": {
          "base_uri": "https://localhost:8080/"
        },
        "id": "93QEuIVFQOLV",
        "outputId": "66ac1b1e-8f38-4979-e506-12fd2fc49474"
      },
      "outputs": [
        {
          "output_type": "stream",
          "name": "stdout",
          "text": [
            "29 is a prime number.\n",
            "1: Not Prime\n",
            "2: Prime\n",
            "3: Prime\n",
            "4: Not Prime\n",
            "17: Prime\n",
            "18: Not Prime\n",
            "19: Prime\n",
            "20: Not Prime\n",
            "25: Not Prime\n",
            "29: Prime\n",
            "30: Not Prime\n"
          ]
        }
      ],
      "source": [
        "def is_prime(n):\n",
        "\n",
        "    if n <= 1:\n",
        "        return False\n",
        "    if n <= 3:\n",
        "        return True\n",
        "\n",
        "    if n % 2 == 0 or n % 3 == 0:\n",
        "        return False\n",
        "\n",
        "\n",
        "    i = 5\n",
        "    while i * i <= n:\n",
        "        if n % i == 0 or n % (i + 2) == 0:\n",
        "            return False\n",
        "        i += 6\n",
        "\n",
        "    return True\n",
        "\n",
        "number = 29\n",
        "if is_prime(number):\n",
        "    print(f\"{number} is a prime number.\")\n",
        "else:\n",
        "    print(f\"{number} is not a prime number.\")\n",
        "\n",
        "for num in [1, 2, 3, 4, 17, 18, 19, 20, 25, 29, 30]:\n",
        "    print(f\"{num}: {'Prime' if is_prime(num) else 'Not Prime'}\")\n"
      ]
    },
    {
      "cell_type": "code",
      "execution_count": 10,
      "metadata": {
        "colab": {
          "base_uri": "https://localhost:8080/"
        },
        "id": "ZgGsF366QOLV",
        "outputId": "093ac735-ccae-4dc8-b644-e2c1efabe636"
      },
      "outputs": [
        {
          "output_type": "stream",
          "name": "stdout",
          "text": [
            "Input string: abcd123\n",
            "Reversed string: 321dcba\n"
          ]
        }
      ],
      "source": [
        "def reverse_string(s):\n",
        "    return s[::-1]\n",
        "\n",
        "input_string = \"abcd123\"\n",
        "reversed_string = reverse_string(input_string)\n",
        "\n",
        "print(f\"Input string: {input_string}\")\n",
        "print(f\"Reversed string: {reversed_string}\")\n"
      ]
    }
  ],
  "metadata": {
    "kernelspec": {
      "display_name": "Python 3 (ipykernel)",
      "language": "python",
      "name": "python3"
    },
    "language_info": {
      "codemirror_mode": {
        "name": "ipython",
        "version": 3
      },
      "file_extension": ".py",
      "mimetype": "text/x-python",
      "name": "python",
      "nbconvert_exporter": "python",
      "pygments_lexer": "ipython3",
      "version": "3.12.4"
    },
    "varInspector": {
      "cols": {
        "lenName": 16,
        "lenType": 16,
        "lenVar": 40
      },
      "kernels_config": {
        "python": {
          "delete_cmd_postfix": "",
          "delete_cmd_prefix": "del ",
          "library": "var_list.py",
          "varRefreshCmd": "print(var_dic_list())"
        },
        "r": {
          "delete_cmd_postfix": ") ",
          "delete_cmd_prefix": "rm(",
          "library": "var_list.r",
          "varRefreshCmd": "cat(var_dic_list()) "
        }
      },
      "types_to_exclude": [
        "module",
        "function",
        "builtin_function_or_method",
        "instance",
        "_Feature"
      ],
      "window_display": false
    },
    "colab": {
      "provenance": [],
      "include_colab_link": true
    }
  },
  "nbformat": 4,
  "nbformat_minor": 0
}